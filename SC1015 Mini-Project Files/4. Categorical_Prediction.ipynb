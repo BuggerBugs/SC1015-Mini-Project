{
 "cells": [
  {
   "cell_type": "markdown",
   "id": "3dcccd12",
   "metadata": {},
   "source": [
    "### Categorical Prediction\n",
    "\n",
    "In this section, we will be converting all song_popularity into categories first, then training our models using this data to try and predict the actual song_popularity category in the test set.\n",
    "\n",
    "We will be looking at the following models of Categorical Prediction:\n",
    "1. Decision Tree\n",
    "2. Random Forest\n",
    "3. Neural Network"
   ]
  },
  {
   "cell_type": "code",
   "execution_count": 109,
   "id": "744f5785",
   "metadata": {},
   "outputs": [],
   "source": [
    "import pandas as pd\n",
    "import numpy as np\n",
    "import matplotlib.pyplot as plt\n",
    "import seaborn as sb\n",
    "\n",
    "# first seperating the dataframe into a df containing only predicted variables and a df only containing response variable\n",
    "X_train1= pd.read_csv('x_train.csv')\n",
    "X_train1=X_train1.drop(X_train1.columns[[0]], axis=1)\n",
    "X_test1= pd.read_csv('x_test.csv')\n",
    "X_test1=X_test1.drop(X_test1.columns[[0]], axis=1)\n",
    "y_train1= pd.read_csv('y_train.csv')\n",
    "y_train1=y_train1.drop(y_train1.columns[[0]], axis=1)\n",
    "y_test1= pd.read_csv('y_test.csv')\n",
    "y_test1=y_test1.drop(y_test1.columns[[0]], axis=1)\n",
    "\n",
    "#Convert all song_popularity to categorical.\n",
    "rangecheck=0\n",
    "for x in range(4):\n",
    "    if(x!=3):\n",
    "        y_test1['song_popularity'] = np.where((y_test1['song_popularity'] >= rangecheck) & (y_test1['song_popularity'] < rangecheck+25), x, y_test1['song_popularity'])\n",
    "        rangecheck+=25\n",
    "    else:\n",
    "        y_test1['song_popularity'] = np.where((y_test1['song_popularity'] >= rangecheck) & (y_test1['song_popularity'] <= rangecheck+25), x, y_test1['song_popularity'])\n",
    "\n",
    "        \n",
    "rangecheck=0\n",
    "for x in range(4):\n",
    "    if(x!=3):\n",
    "        y_train1['song_popularity'] = np.where((y_train1['song_popularity'] >= rangecheck) & (y_train1['song_popularity'] < rangecheck+25), x, y_train1['song_popularity'])\n",
    "        rangecheck+=25\n",
    "    else:\n",
    "        y_train1['song_popularity'] = np.where((y_train1['song_popularity'] >= rangecheck) & (y_train1['song_popularity'] <= rangecheck+25), x, y_train1['song_popularity'])\n",
    "    "
   ]
  },
  {
   "cell_type": "code",
   "execution_count": 110,
   "id": "add3c395",
   "metadata": {},
   "outputs": [],
   "source": [
    "X_train1=X_train1.values[:,0:25]\n",
    "X_test1=X_test1.values[:,0:25]\n",
    "y_train1=y_train1.values[:,0]\n",
    "y_test1=y_test1.values[:,0]"
   ]
  },
  {
   "cell_type": "code",
   "execution_count": 111,
   "id": "c61425f5",
   "metadata": {},
   "outputs": [],
   "source": [
    "#We create 5 copies for later usage, Total of 6. 3 for Decision Tree, Random Forest, and Neural Network. Another 3 for Oversampling on those models\n",
    "X_train2=X_train1.copy()\n",
    "X_test2=X_test1.copy()\n",
    "y_train2=y_train1.copy()\n",
    "y_test2=y_test1.copy()\n",
    "\n",
    "X_train3=X_train1.copy()\n",
    "X_test3=X_test1.copy()\n",
    "y_train3=y_train1.copy()\n",
    "y_test3=y_test1.copy()\n",
    "\n",
    "X_train4=X_train1.copy()\n",
    "X_test4=X_test1.copy()\n",
    "y_train4=y_train1.copy()\n",
    "y_test4=y_test1.copy()\n",
    "\n",
    "#Train sets for these will be obtained from SMOTE Later.\n",
    "X_test5=X_test1.copy()\n",
    "y_test5=y_test1.copy()\n",
    "\n",
    "X_test6=X_test1.copy()\n",
    "y_test6=y_test1.copy()"
   ]
  },
  {
   "cell_type": "markdown",
   "id": "803a3361",
   "metadata": {},
   "source": [
    "### 1. Decision Tree \n"
   ]
  },
  {
   "cell_type": "code",
   "execution_count": 112,
   "id": "893f81d0",
   "metadata": {},
   "outputs": [
    {
     "name": "stdout",
     "output_type": "stream",
     "text": [
      "Fitting 5 folds for each of 10 candidates, totalling 50 fits\n"
     ]
    },
    {
     "data": {
      "text/plain": [
       "RandomizedSearchCV(cv=5, estimator=DecisionTreeClassifier(),\n",
       "                   param_distributions={'criterion': ['gini', 'entropy'],\n",
       "                                        'max_depth': range(2, 60, 5),\n",
       "                                        'max_features': ['auto', 'log2'],\n",
       "                                        'min_samples_leaf': range(1, 200, 20),\n",
       "                                        'min_samples_split': range(2, 300, 20)},\n",
       "                   verbose=True)"
      ]
     },
     "execution_count": 112,
     "metadata": {},
     "output_type": "execute_result"
    }
   ],
   "source": [
    "#We create a Decision Tree model to predict the song popularity cagetory\n",
    "from sklearn.model_selection import RandomizedSearchCV\n",
    "from sklearn.tree import DecisionTreeClassifier, export_graphviz\n",
    "\n",
    "parameters = {\n",
    "    \"criterion\":['gini','entropy'],\n",
    "    \"max_depth\":range(2,60,5),\n",
    "    \"min_samples_leaf\":range(1,200,20),\n",
    "    \"min_samples_split\":range(2,300,20),\n",
    "    \"max_features\":['auto','log2']\n",
    "}\n",
    "\n",
    "#Hyperparameter optimization\n",
    "DT_grid  = RandomizedSearchCV(DecisionTreeClassifier(), param_distributions = parameters, cv = 5, verbose = True)\n",
    "DT_grid.fit(X_train1,y_train1)\n"
   ]
  },
  {
   "cell_type": "code",
   "execution_count": 113,
   "id": "bc4bdbdb",
   "metadata": {},
   "outputs": [
    {
     "data": {
      "text/plain": [
       "DecisionTreeClassifier(max_depth=52, max_features='auto', min_samples_leaf=181,\n",
       "                       min_samples_split=202)"
      ]
     },
     "execution_count": 113,
     "metadata": {},
     "output_type": "execute_result"
    }
   ],
   "source": [
    "DT_grid.best_estimator_"
   ]
  },
  {
   "cell_type": "code",
   "execution_count": 147,
   "id": "c8e363b0",
   "metadata": {},
   "outputs": [],
   "source": [
    "#Update parameters according to best estimator\n",
    "DT_Model = DecisionTreeClassifier(max_depth=52,min_samples_leaf=181,max_features='auto',min_samples_split=202)\n",
    "DT_Model.fit(X_train1,y_train1)\n",
    "y_test_pred1=DT_Model.predict(X_test1)\n"
   ]
  },
  {
   "cell_type": "code",
   "execution_count": 157,
   "id": "77a94e1a",
   "metadata": {},
   "outputs": [
    {
     "name": "stdout",
     "output_type": "stream",
     "text": [
      "TPR:  [0.         0.22437137 0.85089686 0.        ]\n",
      "TNR:  [1.         0.85384615 0.18702703 1.        ]\n",
      "FPR:  [0.         0.14615385 0.81297297 0.        ]\n",
      "FNR:  [1.         0.77562863 0.14910314 1.        ]\n",
      "Accuracy:  [0.86626307 0.67473858 0.51293341 0.90919097]\n",
      "Accuracy (Whole Table):  0.48156301596037426\n"
     ]
    },
    {
     "data": {
      "image/png": "[encoded data removed]",
      "text/plain": [
       "<Figure size 1200x400 with 2 Axes>"
      ]
     },
     "metadata": {},
     "output_type": "display_data"
    }
   ],
   "source": [
    "#Visualise Confusion matrix and model accuracy\n",
    "from sklearn.metrics import confusion_matrix\n",
    "from sklearn.metrics import accuracy_score\n",
    "f, axes = plt.subplots(1,1,figsize=(12, 4))\n",
    "CM1=confusion_matrix(y_test1, y_test_pred1)\n",
    "sb.heatmap(CM1, \n",
    "           annot = True, fmt=\".0f\", annot_kws={\"size\": 18},ax = axes)\n",
    "\n",
    "FPDT = CM1.sum(axis=0) - np.diag(CM1) \n",
    "FNDT = CM1.sum(axis=1) - np.diag(CM1)\n",
    "TPDT = np.diag(CM1)\n",
    "TNDT = CM1.sum() - (FPDT + FNDT + TPDT)\n",
    "FPDT = FPDT.astype(float)\n",
    "FNDT = FNDT.astype(float)\n",
    "TPDT = TPDT.astype(float)\n",
    "TNDT = TNDT.astype(float)\n",
    "            \n",
    "            \n",
    "# Sensitivity, hit rate, recall, or true positive rate\n",
    "TPRDT = TPDT/(TPDT+FNDT)\n",
    "# Specificity or true negative rate\n",
    "TNRDT = TNDT/(TNDT+FPDT) \n",
    "# Fall out or false positive rate\n",
    "FPRDT = FPDT/(FPDT+TNDT)\n",
    "# False negative rate\n",
    "FNRDT = FNDT/(TPDT+FNDT)\n",
    "\n",
    "#Accuracy\n",
    "ACCDT = (TPDT+TNDT)/(TPDT+FPDT+FNDT+TNDT)\n",
    "\n",
    "#Overall Accuracy\n",
    "TOTALACCDT=accuracy_score(y_test1,y_test_pred1)\n",
    "\n",
    "print(\"TPR: \",TPRDT)\n",
    "print(\"TNR: \",TNRDT)\n",
    "print(\"FPR: \",FPRDT)\n",
    "print(\"FNR: \",FNRDT)\n",
    "print(\"Accuracy: \",ACCDT)\n",
    "print(\"Accuracy (Whole Table): \",accuracy_score(y_test1,y_test_pred1))"
   ]
  },
  {
   "cell_type": "markdown",
   "id": "4aafa408",
   "metadata": {},
   "source": [
    "### 2. Random Forest \n",
    "Random Forest grows multiple decision trees via bagging, whose decisions are then merged together for a more accurate prediction."
   ]
  },
  {
   "cell_type": "code",
   "execution_count": 117,
   "id": "60c1cf97",
   "metadata": {},
   "outputs": [
    {
     "name": "stdout",
     "output_type": "stream",
     "text": [
      "Fitting 5 folds for each of 10 candidates, totalling 50 fits\n"
     ]
    },
    {
     "data": {
      "text/plain": [
       "{'n_estimators': 90,\n",
       " 'min_samples_split': 122,\n",
       " 'min_samples_leaf': 1,\n",
       " 'max_features': 'auto',\n",
       " 'max_depth': 32,\n",
       " 'criterion': 'entropy'}"
      ]
     },
     "execution_count": 117,
     "metadata": {},
     "output_type": "execute_result"
    }
   ],
   "source": [
    "from sklearn.ensemble import RandomForestClassifier\n",
    "\n",
    "RandomForest=RandomForestClassifier(random_state=42)\n",
    "parameters={\n",
    "    \"n_estimators\":[90,100,115,130],\n",
    "    \"criterion\":['gini','entropy'],\n",
    "    \"max_depth\":range(2,60,5),\n",
    "    \"min_samples_leaf\":range(1,200,20),\n",
    "    \"min_samples_split\":range(2,300,20),\n",
    "    \"max_features\":['auto','log2']\n",
    "}\n",
    "\n",
    "RF_grid=RandomizedSearchCV(estimator=RandomForest,param_distributions=parameters,cv=5,n_jobs=-1,verbose=3)\n",
    "RF_grid.fit(X_train2,y_train2)\n",
    "RF_grid.best_params_"
   ]
  },
  {
   "cell_type": "code",
   "execution_count": 150,
   "id": "e610ac66",
   "metadata": {},
   "outputs": [],
   "source": [
    "#Update parameters according to best estimator\n",
    "RandomForest=RandomForestClassifier(n_estimators=90,min_samples_split=122,min_samples_leaf=1,max_features='auto',max_depth=32,criterion='entropy')\n",
    "RandomForest.fit(X_train2,y_train2)\n",
    "y_test_pred2=RandomForest.predict(X_test2)"
   ]
  },
  {
   "cell_type": "code",
   "execution_count": 158,
   "id": "50a32246",
   "metadata": {},
   "outputs": [
    {
     "name": "stdout",
     "output_type": "stream",
     "text": [
      "TPR:  [0.         0.1237911  0.95964126 0.        ]\n",
      "TNR:  [1.         0.95769231 0.08972973 1.        ]\n",
      "FPR:  [0.         0.04230769 0.91027027 0.        ]\n",
      "FNR:  [1.         0.8762089  0.04035874 1.        ]\n",
      "Accuracy:  [0.86626307 0.72041827 0.51678591 0.90919097]\n",
      "Accuracy (Whole Table):  0.5063291139240507\n"
     ]
    },
    {
     "data": {
      "image/png": "[encoded data removed]",
      "text/plain": [
       "<Figure size 1200x400 with 2 Axes>"
      ]
     },
     "metadata": {},
     "output_type": "display_data"
    }
   ],
   "source": [
    "f, axes = plt.subplots(1,1,figsize=(12, 4))\n",
    "CM2=confusion_matrix(y_test2, y_test_pred2)\n",
    "sb.heatmap(CM2, \n",
    "           annot = True, fmt=\".0f\", annot_kws={\"size\": 18},ax = axes)\n",
    "\n",
    "FPRF = CM2.sum(axis=0) - np.diag(CM2) \n",
    "FNRF = CM2.sum(axis=1) - np.diag(CM2)\n",
    "TPRF = np.diag(CM2)\n",
    "TNRF = CM2.sum() - (FPRF + FNRF + TPRF)\n",
    "FPRF = FPRF.astype(float)\n",
    "FNRF = FNRF.astype(float)\n",
    "TPRF = TPRF.astype(float)\n",
    "TNRF = TNRF.astype(float)\n",
    "            \n",
    "            \n",
    "# Sensitivity, hit rate, recall, or true positive rate\n",
    "TPRRF = TPRF/(TPRF+FNRF)\n",
    "# Specificity or true negative rate\n",
    "TNRRF = TNRF/(TNRF+FPRF) \n",
    "# Fall out or false positive rate\n",
    "FPRRF = FPRF/(FPRF+TNRF)\n",
    "# False negative rate\n",
    "FNRRF = FNRF/(TPRF+FNRF)\n",
    "\n",
    "# Accuracy\n",
    "ACCRF = (TPRF+TNRF)/(TPRF+FPRF+FNRF+TNRF)\n",
    "\n",
    "#Overall Accuracy\n",
    "TOTALACCRF=accuracy_score(y_test2,y_test_pred2)\n",
    "\n",
    "\n",
    "print(\"TPR: \",TPRRF)\n",
    "print(\"TNR: \",TNRRF)\n",
    "print(\"FPR: \",FPRRF)\n",
    "print(\"FNR: \",FNRRF)\n",
    "print(\"Accuracy: \",ACCRF)\n",
    "print(\"Accuracy (Whole Table): \",accuracy_score(y_test2,y_test_pred2))"
   ]
  },
  {
   "cell_type": "markdown",
   "id": "6880bef7",
   "metadata": {},
   "source": [
    "### 3. Neural Networks\n",
    "We import tensorflow and create a neural network model to train and predict the song_popularity category.\n",
    "\n",
    "As Neural Networks have many hyperparameters that can influence the accuracy of the model, we use Keras Tuner to test multiple combinations of hyperparamters (epochs, activation functions, number of Neurons in layers, learning rate) using validation sets within the test sets, and obtain the model with the best accuracy."
   ]
  },
  {
   "cell_type": "code",
   "execution_count": 120,
   "id": "71bb75bc",
   "metadata": {},
   "outputs": [],
   "source": [
    "#Neural Network Implementation\n",
    "import tensorflow as tf\n",
    "from keras.utils.np_utils import to_categorical\n",
    "import keras_tuner as kt\n",
    "\n",
    "#Convert y to categorical \n",
    "y_train3=pd.Series(y_train3)\n",
    "y_train3= to_categorical(y_train3)\n",
    "y_test3=pd.Series(y_test3)\n",
    "y_test3=to_categorical(y_test3)\n",
    "\n",
    "#Define Neural Network Model\n",
    "def model_builder(hp):\n",
    "  model = tf.keras.Sequential()\n",
    "  model.add(tf.keras.layers.Flatten(input_shape=(25,)))\n",
    "\n",
    "  hp_activation = hp.Choice('activation', values=['relu', 'tanh'])\n",
    "  hp_layer_1 = hp.Int('layer_1', min_value=1, max_value=1000, step=100)\n",
    "  hp_layer_2 = hp.Int('layer_2', min_value=1, max_value=1000, step=100)\n",
    "  hp_learning_rate = hp.Choice('learning_rate', values=[1e-2, 1e-3, 1e-4])\n",
    "\n",
    "  model.add(tf.keras.layers.Dense(units=hp_layer_1, activation=hp_activation))\n",
    "  model.add(tf.keras.layers.Dense(units=hp_layer_2, activation=hp_activation))\n",
    "  model.add(tf.keras.layers.Dense(4, activation='softmax'))\n",
    "\n",
    "  model.compile(optimizer=tf.keras.optimizers.Adam(learning_rate=hp_learning_rate),\n",
    "                loss=\"categorical_crossentropy\",\n",
    "                metrics=['accuracy'])\n",
    "  \n",
    "  return model\n",
    "\n",
    "\n",
    "tuner = kt.Hyperband(model_builder,\n",
    "                     objective='val_accuracy',\n",
    "                     max_epochs=100,\n",
    "                     factor=3,\n",
    "                     directory='dir',\n",
    "                     project_name='x',\n",
    "                     overwrite=True)\n",
    "\n",
    "stop_early = tf.keras.callbacks.EarlyStopping(monitor='val_loss', patience=3)"
   ]
  },
  {
   "cell_type": "code",
   "execution_count": 121,
   "id": "9b24c0ee",
   "metadata": {},
   "outputs": [
    {
     "name": "stdout",
     "output_type": "stream",
     "text": [
      "Trial 254 Complete [00h 00m 04s]\n",
      "val_accuracy: 0.5010323524475098\n",
      "\n",
      "Best val_accuracy So Far: 0.5072264075279236\n",
      "Total elapsed time: 00h 12m 03s\n",
      "INFO:tensorflow:Oracle triggered exit\n"
     ]
    }
   ],
   "source": [
    "tuner.search(X_train3, y_train3, epochs=10, validation_split=0.2, callbacks=[stop_early])\n"
   ]
  },
  {
   "cell_type": "code",
   "execution_count": 122,
   "id": "df4f7339",
   "metadata": {},
   "outputs": [],
   "source": [
    "best_hps = tuner.get_best_hyperparameters(num_trials=1)[0]"
   ]
  },
  {
   "cell_type": "code",
   "execution_count": 123,
   "id": "f98e5c3e",
   "metadata": {},
   "outputs": [
    {
     "name": "stdout",
     "output_type": "stream",
     "text": [
      "Epoch 1/50\n",
      "182/182 [==============================] - 1s 2ms/step - loss: 1.2952 - accuracy: 0.4325 - val_loss: 1.2239 - val_accuracy: 0.4831\n",
      "Epoch 2/50\n",
      "182/182 [==============================] - 0s 1ms/step - loss: 1.1931 - accuracy: 0.4848 - val_loss: 1.2113 - val_accuracy: 0.4859\n",
      "Epoch 3/50\n",
      "182/182 [==============================] - 0s 1ms/step - loss: 1.1807 - accuracy: 0.4917 - val_loss: 1.2060 - val_accuracy: 0.4825\n",
      "Epoch 4/50\n",
      "182/182 [==============================] - 0s 1ms/step - loss: 1.1733 - accuracy: 0.4944 - val_loss: 1.2006 - val_accuracy: 0.4948\n",
      "Epoch 5/50\n",
      "182/182 [==============================] - 0s 1ms/step - loss: 1.1684 - accuracy: 0.5004 - val_loss: 1.1997 - val_accuracy: 0.4886\n",
      "Epoch 6/50\n",
      "182/182 [==============================] - 0s 1ms/step - loss: 1.1643 - accuracy: 0.5025 - val_loss: 1.1969 - val_accuracy: 0.4962\n",
      "Epoch 7/50\n",
      "182/182 [==============================] - 0s 1ms/step - loss: 1.1609 - accuracy: 0.5034 - val_loss: 1.1961 - val_accuracy: 0.4935\n",
      "Epoch 8/50\n",
      "182/182 [==============================] - 0s 1ms/step - loss: 1.1581 - accuracy: 0.5049 - val_loss: 1.1944 - val_accuracy: 0.4900\n",
      "Epoch 9/50\n",
      "182/182 [==============================] - 0s 1ms/step - loss: 1.1553 - accuracy: 0.5059 - val_loss: 1.1942 - val_accuracy: 0.4907\n",
      "Epoch 10/50\n",
      "182/182 [==============================] - 0s 1ms/step - loss: 1.1524 - accuracy: 0.5056 - val_loss: 1.1921 - val_accuracy: 0.5031\n",
      "Epoch 11/50\n",
      "182/182 [==============================] - 0s 1ms/step - loss: 1.1506 - accuracy: 0.5075 - val_loss: 1.1929 - val_accuracy: 0.4921\n",
      "Epoch 12/50\n",
      "182/182 [==============================] - 0s 1ms/step - loss: 1.1483 - accuracy: 0.5096 - val_loss: 1.1915 - val_accuracy: 0.4976\n",
      "Epoch 13/50\n",
      "182/182 [==============================] - 0s 1ms/step - loss: 1.1467 - accuracy: 0.5066 - val_loss: 1.1907 - val_accuracy: 0.4990\n",
      "Epoch 14/50\n",
      "182/182 [==============================] - 0s 1ms/step - loss: 1.1443 - accuracy: 0.5096 - val_loss: 1.1915 - val_accuracy: 0.4955\n",
      "Epoch 15/50\n",
      "182/182 [==============================] - 0s 1ms/step - loss: 1.1425 - accuracy: 0.5101 - val_loss: 1.1925 - val_accuracy: 0.4969\n",
      "Epoch 16/50\n",
      "182/182 [==============================] - 0s 1ms/step - loss: 1.1409 - accuracy: 0.5108 - val_loss: 1.1921 - val_accuracy: 0.4983\n"
     ]
    },
    {
     "data": {
      "text/plain": [
       "{'loss': [1.295196533203125,\n",
       "  1.193122386932373,\n",
       "  1.1806622743606567,\n",
       "  1.1733134984970093,\n",
       "  1.1684025526046753,\n",
       "  1.1643378734588623,\n",
       "  1.1609179973602295,\n",
       "  1.1581041812896729,\n",
       "  1.1553224325180054,\n",
       "  1.1524420976638794,\n",
       "  1.1506199836730957,\n",
       "  1.1482999324798584,\n",
       "  1.1467037200927734,\n",
       "  1.1442803144454956,\n",
       "  1.142540693283081,\n",
       "  1.140860676765442],\n",
       " 'accuracy': [0.4324556887149811,\n",
       "  0.484770268201828,\n",
       "  0.49165377020835876,\n",
       "  0.49440714716911316,\n",
       "  0.5004302263259888,\n",
       "  0.502495288848877,\n",
       "  0.5033556818962097,\n",
       "  0.5049045085906982,\n",
       "  0.5059370398521423,\n",
       "  0.5055928230285645,\n",
       "  0.5074858069419861,\n",
       "  0.5095508694648743,\n",
       "  0.5066253542900085,\n",
       "  0.5095508694648743,\n",
       "  0.5100671052932739,\n",
       "  0.5107554793357849],\n",
       " 'val_loss': [1.223940372467041,\n",
       "  1.2112514972686768,\n",
       "  1.2059811353683472,\n",
       "  1.20062255859375,\n",
       "  1.1997374296188354,\n",
       "  1.196918249130249,\n",
       "  1.1960808038711548,\n",
       "  1.1943638324737549,\n",
       "  1.1942026615142822,\n",
       "  1.1920870542526245,\n",
       "  1.1928555965423584,\n",
       "  1.1914509534835815,\n",
       "  1.190691590309143,\n",
       "  1.191503643989563,\n",
       "  1.1925327777862549,\n",
       "  1.192124605178833],\n",
       " 'val_accuracy': [0.4831383228302002,\n",
       "  0.4858912527561188,\n",
       "  0.48245009779930115,\n",
       "  0.49483826756477356,\n",
       "  0.48864418268203735,\n",
       "  0.49621471762657166,\n",
       "  0.49346181750297546,\n",
       "  0.49002063274383545,\n",
       "  0.4907088875770569,\n",
       "  0.5030970573425293,\n",
       "  0.492085337638855,\n",
       "  0.49759119749069214,\n",
       "  0.49896764755249023,\n",
       "  0.4955264925956726,\n",
       "  0.4969029724597931,\n",
       "  0.4982794225215912]}"
      ]
     },
     "execution_count": 123,
     "metadata": {},
     "output_type": "execute_result"
    }
   ],
   "source": [
    "model = tuner.hypermodel.build(best_hps)\n",
    "history = model.fit(X_train3, y_train3, epochs=50, validation_split=0.2,\n",
    "                    callbacks=[stop_early])\n",
    "history.history"
   ]
  },
  {
   "cell_type": "code",
   "execution_count": 124,
   "id": "26d0acf6",
   "metadata": {},
   "outputs": [
    {
     "name": "stdout",
     "output_type": "stream",
     "text": [
      "57/57 [==============================] - 0s 568us/step\n",
      "57/57 [==============================] - 0s 588us/step\n",
      "TPR:  [0.         0.16441006 0.90358744 0.        ]\n",
      "TNR:  [1.         0.90461538 0.13297297 1.        ]\n",
      "FPR:  [0.         0.09538462 0.86702703 0.        ]\n",
      "FNR:  [1.         0.83558994 0.09641256 1.        ]\n",
      "Accuracy:  [0.86626307 0.6940011  0.51128233 0.90919097]\n",
      "Accuracy (Whole Table):  0.49036873968079253\n"
     ]
    },
    {
     "data": {
      "image/png": "[encoded data removed]",
      "text/plain": [
       "<Figure size 1200x400 with 2 Axes>"
      ]
     },
     "metadata": {},
     "output_type": "display_data"
    }
   ],
   "source": [
    "y_pred_class3=np.argmax(model.predict(X_test3), axis=-1)\n",
    "y_pred3 = model.predict(X_test3)\n",
    "y_test_class3 = np.argmax(y_test3, axis=1)\n",
    "CM3=confusion_matrix(y_test_class3, y_pred_class3)\n",
    "f, axes = plt.subplots(1,1,figsize=(12, 4))\n",
    "sb.heatmap(CM3, \n",
    "           annot = True, fmt=\".0f\", annot_kws={\"size\": 18},ax = axes)\n",
    "\n",
    "FPNN = CM3.sum(axis=0) - np.diag(CM3) \n",
    "FNNN = CM3.sum(axis=1) - np.diag(CM3)\n",
    "TPNN = np.diag(CM3)\n",
    "TNNN = CM3.sum() - (FPNN + FNNN + TPNN)\n",
    "FPNN = FPNN.astype(float)\n",
    "FNNN = FNNN.astype(float)\n",
    "TPNN = TPNN.astype(float)\n",
    "TNNN = TNNN.astype(float)\n",
    "            \n",
    "            \n",
    "# Sensitivity, hit rate, recall, or true positive rate\n",
    "TPRNN = TPNN/(TPNN+FNNN)\n",
    "# Specificity or true negative rate\n",
    "TNRNN = TNNN/(TNNN+FPNN) \n",
    "# Fall out or false positive rate\n",
    "FPRNN = FPNN/(FPNN+TNNN)\n",
    "# False negative rate\n",
    "FNRNN = FNNN/(TPNN+FNNN)\n",
    "\n",
    "#Accuracy\n",
    "ACCNN = (TPNN+TNNN)/(TPNN+FPNN+FNNN+TNNN)\n",
    "\n",
    "#Overall Accuracy\n",
    "TOTALACCNN=accuracy_score(y_test_class3,y_pred_class3)\n",
    "\n",
    "print(\"TPR: \",TPRNN)\n",
    "print(\"TNR: \",TNRNN)\n",
    "print(\"FPR: \",FPRNN)\n",
    "print(\"FNR: \",FNRNN)\n",
    "print(\"Accuracy: \",ACCNN)\n",
    "\n",
    "print(\"Accuracy (Whole Table): \",accuracy_score(y_test_class3,y_pred_class3))"
   ]
  },
  {
   "cell_type": "markdown",
   "id": "a46390b7",
   "metadata": {},
   "source": [
    "### SMOTE Oversampling\n",
    "Imbalanced datasets can affect the quality of the classification. It could be difficult to obtain good generalization for poorly represented classes. \n",
    "\n",
    "In this section, we display the data imbalance and utlise SMOTE to create synthetic samples for the minority class to reduce class imbalance. This algorithm helps to overcome the overfitting problem posed by random oversampling since it doesn't simply duplicate existing data.\n"
   ]
  },
  {
   "cell_type": "code",
   "execution_count": 125,
   "id": "4d0a7bd9",
   "metadata": {},
   "outputs": [
    {
     "name": "stdout",
     "output_type": "stream",
     "text": [
      "Class=2, n=3537 (48.692%)\n",
      "Class=0, n=957 (13.175%)\n",
      "Class=1, n=2087 (28.731%)\n",
      "Class=3, n=683 (9.403%)\n"
     ]
    },
    {
     "data": {
      "image/png": "[encoded data removed]",
      "text/plain": [
       "<Figure size 640x480 with 1 Axes>"
      ]
     },
     "metadata": {},
     "output_type": "display_data"
    }
   ],
   "source": [
    "#Doing SMOTE Oversampling for all models\n",
    "from imblearn.over_sampling import SMOTE\n",
    "from collections import Counter\n",
    "from matplotlib import pyplot\n",
    "from sklearn.preprocessing import LabelEncoder\n",
    "\n",
    "#Showcase Class imbalance\n",
    "y_train4 = LabelEncoder().fit_transform(y_train4)\n",
    "counter = Counter(y_train4)\n",
    "for k,v in counter.items():\n",
    "    per = v / len(y_train4) * 100\n",
    "    print('Class=%d, n=%d (%.3f%%)' % (k, v, per))\n",
    "# plot the distribution to see imbalance\n",
    "plt.bar(counter.keys(), counter.values())\n",
    "plt.show()"
   ]
  },
  {
   "cell_type": "code",
   "execution_count": 126,
   "id": "8bb500e5",
   "metadata": {},
   "outputs": [
    {
     "name": "stdout",
     "output_type": "stream",
     "text": [
      "Class=2, n=3537 (25.000%)\n",
      "Class=0, n=3537 (25.000%)\n",
      "Class=1, n=3537 (25.000%)\n",
      "Class=3, n=3537 (25.000%)\n"
     ]
    },
    {
     "data": {
      "image/png": "[encoded data removed]",
      "text/plain": [
       "<Figure size 640x480 with 1 Axes>"
      ]
     },
     "metadata": {},
     "output_type": "display_data"
    }
   ],
   "source": [
    "# label encode the train target variable\n",
    "# https://machinelearningmastery.com/multi-class-imbalanced-classification/\n",
    "y_train4 = LabelEncoder().fit_transform(y_train4)\n",
    "# transform the dataset\n",
    "oversample = SMOTE()\n",
    "X_train4, y_train4 = oversample.fit_resample(X_train4, y_train4)\n",
    "# summarize distribution\n",
    "counter = Counter(y_train4)\n",
    "for k,v in counter.items():\n",
    "    per = v / len(y_train4) * 100\n",
    "    print('Class=%d, n=%d (%.3f%%)' % (k, v, per))\n",
    "# plot the distribution\n",
    "pyplot.bar(counter.keys(), counter.values())\n",
    "pyplot.show()"
   ]
  },
  {
   "cell_type": "markdown",
   "id": "1ff2b5ef",
   "metadata": {},
   "source": [
    "### 4. Decision Tree (SMOTE Oversampled)"
   ]
  },
  {
   "cell_type": "code",
   "execution_count": 127,
   "id": "8ce03819",
   "metadata": {},
   "outputs": [],
   "source": [
    "#Start for Decision Tree\n",
    "\n",
    "#create 2 copies of train set for test sets 5 and 6\n",
    "\n",
    "X_train5=X_train4.copy()\n",
    "y_train5=y_train4.copy()\n",
    "X_train6=X_train4.copy()\n",
    "y_train6=y_train4.copy()\n"
   ]
  },
  {
   "cell_type": "code",
   "execution_count": 128,
   "id": "891bdd6a",
   "metadata": {},
   "outputs": [
    {
     "name": "stdout",
     "output_type": "stream",
     "text": [
      "Fitting 5 folds for each of 10 candidates, totalling 50 fits\n"
     ]
    },
    {
     "data": {
      "text/plain": [
       "RandomizedSearchCV(cv=5, estimator=DecisionTreeClassifier(),\n",
       "                   param_distributions={'criterion': ['gini', 'entropy'],\n",
       "                                        'max_depth': range(2, 60, 5),\n",
       "                                        'max_features': ['auto', 'log2'],\n",
       "                                        'min_samples_leaf': range(1, 200, 20),\n",
       "                                        'min_samples_split': range(2, 300, 20)},\n",
       "                   verbose=True)"
      ]
     },
     "execution_count": 128,
     "metadata": {},
     "output_type": "execute_result"
    }
   ],
   "source": [
    "#Decision tree with SMOTE oversampling\n",
    "parameters = {\n",
    "    \"criterion\":['gini','entropy'],\n",
    "    \"max_depth\":range(2,60,5),\n",
    "    \"min_samples_leaf\":range(1,200,20),\n",
    "    \"min_samples_split\":range(2,300,20),\n",
    "    \"max_features\":['auto','log2']\n",
    "}\n",
    "\n",
    "#Hyperparameter optimization\n",
    "DT_gridOS  = RandomizedSearchCV(DecisionTreeClassifier(), param_distributions = parameters, cv = 5, verbose = True)\n",
    "DT_gridOS.fit(X_train5,y_train5)\n"
   ]
  },
  {
   "cell_type": "code",
   "execution_count": 129,
   "id": "9c1e8aac",
   "metadata": {},
   "outputs": [
    {
     "data": {
      "text/plain": [
       "DecisionTreeClassifier(max_depth=52, max_features='auto', min_samples_leaf=21,\n",
       "                       min_samples_split=82)"
      ]
     },
     "execution_count": 129,
     "metadata": {},
     "output_type": "execute_result"
    }
   ],
   "source": [
    "DT_gridOS.best_estimator_"
   ]
  },
  {
   "cell_type": "code",
   "execution_count": 152,
   "id": "d1f3b61c",
   "metadata": {},
   "outputs": [],
   "source": [
    "#Update parameters according to best estimator\n",
    "DT_ModelOS = DecisionTreeClassifier(max_depth=52,max_features='auto',min_samples_leaf=21,min_samples_split=82)\n",
    "DT_ModelOS.fit(X_train5,y_train5)\n",
    "y_test_pred5=DT_ModelOS.predict(X_test5)"
   ]
  },
  {
   "cell_type": "code",
   "execution_count": 159,
   "id": "fbf26a46",
   "metadata": {},
   "outputs": [
    {
     "name": "stdout",
     "output_type": "stream",
     "text": [
      "TPR:  [0.24279835 0.28046422 0.3396861  0.32727273]\n",
      "TNR:  [0.79288437 0.76692308 0.66486486 0.80811138]\n",
      "FPR:  [0.20711563 0.23307692 0.33513514 0.19188862]\n",
      "FNR:  [0.75720165 0.71953578 0.6603139  0.67272727]\n",
      "Accuracy:  [0.71931756 0.62850853 0.5052284  0.76444689]\n",
      "Accuracy (Whole Table):  0.30875068794716565\n"
     ]
    },
    {
     "data": {
      "image/png": "[encoded data removed]",
      "text/plain": [
       "<Figure size 1200x400 with 2 Axes>"
      ]
     },
     "metadata": {},
     "output_type": "display_data"
    }
   ],
   "source": [
    "#Visualise Confusion matrix and model accuracy\n",
    "from sklearn.metrics import confusion_matrix\n",
    "f, axes = plt.subplots(1,1,figsize=(12, 4))\n",
    "CM5=confusion_matrix(y_test5, y_test_pred5)\n",
    "sb.heatmap(CM5, \n",
    "           annot = True, fmt=\".0f\", annot_kws={\"size\": 18},ax = axes)\n",
    "\n",
    "FPDTOS = CM5.sum(axis=0) - np.diag(CM5) \n",
    "FNDTOS = CM5.sum(axis=1) - np.diag(CM5)\n",
    "TPDTOS = np.diag(CM5)\n",
    "TNDTOS = CM5.sum() - (FPDTOS + FNDTOS + TPDTOS)\n",
    "FPDTOS = FPDTOS.astype(float)\n",
    "FNDTOS = FNDTOS.astype(float)\n",
    "TPDTOS = TPDTOS.astype(float)\n",
    "TNDTOS = TNDTOS.astype(float)\n",
    "            \n",
    "            \n",
    "# Sensitivity, hit rate, recall, or true positive rate\n",
    "TPRDTOS = TPDTOS/(TPDTOS+FNDTOS)\n",
    "# Specificity or true negative rate\n",
    "TNRDTOS = TNDTOS/(TNDTOS+FPDTOS) \n",
    "# Fall out or false positive rate\n",
    "FPRDTOS = FPDTOS/(FPDTOS+TNDTOS)\n",
    "# False negative rate\n",
    "FNRDTOS = FNDTOS/(TPDTOS+FNDTOS)\n",
    "\n",
    "# Accuracy\n",
    "ACCDTOS = (TPDTOS+TNDTOS)/(TPDTOS+FPDTOS+FNDTOS+TNDTOS)\n",
    "\n",
    "#Overall Accuracy\n",
    "TOTALACCDTOS=accuracy_score(y_test5,y_test_pred5)\n",
    "\n",
    "print(\"TPR: \",TPRDTOS)\n",
    "print(\"TNR: \",TNRDTOS)\n",
    "print(\"FPR: \",FPRDTOS)\n",
    "print(\"FNR: \",FNRDTOS)\n",
    "print(\"Accuracy: \",ACCDTOS)\n",
    "print(\"Accuracy (Whole Table): \",accuracy_score(y_test5,y_test_pred5))"
   ]
  },
  {
   "cell_type": "markdown",
   "id": "a02e0495",
   "metadata": {},
   "source": [
    "### 5. Random Forest (SMOTE Oversampled)"
   ]
  },
  {
   "cell_type": "code",
   "execution_count": 132,
   "id": "82930e8e",
   "metadata": {},
   "outputs": [
    {
     "name": "stdout",
     "output_type": "stream",
     "text": [
      "Fitting 5 folds for each of 10 candidates, totalling 50 fits\n"
     ]
    },
    {
     "data": {
      "text/plain": [
       "{'n_estimators': 90,\n",
       " 'min_samples_split': 2,\n",
       " 'min_samples_leaf': 1,\n",
       " 'max_features': 'auto',\n",
       " 'max_depth': 57,\n",
       " 'criterion': 'gini'}"
      ]
     },
     "execution_count": 132,
     "metadata": {},
     "output_type": "execute_result"
    }
   ],
   "source": [
    "#Random Forest with SMOTE Oversampling\n",
    "\n",
    "RandomForestOS=RandomForestClassifier(random_state=42)\n",
    "parameters={\n",
    "    \"n_estimators\":[90,100,115,130],\n",
    "    \"criterion\":['gini','entropy'],\n",
    "    \"max_depth\":range(2,60,5),\n",
    "    \"min_samples_leaf\":range(1,200,20),\n",
    "    \"min_samples_split\":range(2,300,20),\n",
    "    \"max_features\":['auto','log2']\n",
    "}\n",
    "\n",
    "RF_gridOS=RandomizedSearchCV(estimator=RandomForestOS,param_distributions=parameters,cv=5,n_jobs=-1,verbose=3)\n",
    "RF_gridOS.fit(X_train6,y_train6)\n",
    "RF_gridOS.best_params_"
   ]
  },
  {
   "cell_type": "code",
   "execution_count": 154,
   "id": "e410cff2",
   "metadata": {},
   "outputs": [],
   "source": [
    "RandomForestOS=RandomForestClassifier(n_estimators=90,min_samples_split=2,min_samples_leaf=1,max_features='auto',max_depth=57,criterion='gini')\n",
    "RandomForestOS.fit(X_train6,y_train6)\n",
    "y_test_pred6=RandomForestOS.predict(X_test6)"
   ]
  },
  {
   "cell_type": "code",
   "execution_count": 156,
   "id": "4c6c6fa8",
   "metadata": {},
   "outputs": [
    {
     "name": "stdout",
     "output_type": "stream",
     "text": [
      "TPR:  [0.10288066 0.33655706 0.57623318 0.18787879]\n",
      "TNR:  [0.91994917 0.76       0.45297297 0.92191283]\n",
      "FPR:  [0.08005083 0.24       0.54702703 0.07808717]\n",
      "FNR:  [0.89711934 0.66344294 0.42376682 0.81212121]\n",
      "Accuracy:  [0.81067694 0.63951569 0.51348376 0.85525592]\n",
      "Accuracy (Whole Table):  0.40946615299944966\n"
     ]
    },
    {
     "data": {
      "image/png": "[encoded data removed]",
      "text/plain": [
       "<Figure size 1200x400 with 2 Axes>"
      ]
     },
     "metadata": {},
     "output_type": "display_data"
    }
   ],
   "source": [
    "f, axes = plt.subplots(1,1,figsize=(12, 4))\n",
    "CM6=confusion_matrix(y_test6, y_test_pred6)\n",
    "sb.heatmap(CM6, \n",
    "           annot = True, fmt=\".0f\", annot_kws={\"size\": 18},ax = axes)\n",
    "\n",
    "FPRFOS = CM6.sum(axis=0) - np.diag(CM6) \n",
    "FNRFOS = CM6.sum(axis=1) - np.diag(CM6)\n",
    "TPRFOS = np.diag(CM6)\n",
    "TNRFOS = CM6.sum() - (FPRFOS + FNRFOS + TPRFOS)\n",
    "FPRFOS = FPRFOS.astype(float)\n",
    "FNRFOS = FNRFOS.astype(float)\n",
    "TPRFOS = TPRFOS.astype(float)\n",
    "TNRFOS = TNRFOS.astype(float)\n",
    "            \n",
    "            \n",
    "# Sensitivity, hit rate, recall, or true positive rate\n",
    "TPRRFOS = TPRFOS/(TPRFOS+FNRFOS)\n",
    "# Specificity or true negative rate\n",
    "TNRRFOS = TNRFOS/(TNRFOS+FPRFOS) \n",
    "# Fall out or false positive rate\n",
    "FPRRFOS = FPRFOS/(FPRFOS+TNRFOS)\n",
    "# False negative rate\n",
    "FNRRFOS = FNRFOS/(TPRFOS+FNRFOS)\n",
    "\n",
    "# Accuracy\n",
    "ACCRFOS = (TPRFOS+TNRFOS)/(TPRFOS+FPRFOS+FNRFOS+TNRFOS)\n",
    "\n",
    "#Overall Accuracy\n",
    "TOTALACCRFOS=accuracy_score(y_test6,y_test_pred6)\n",
    "\n",
    "print(\"TPR: \",TPRRFOS)\n",
    "print(\"TNR: \",TNRRFOS)\n",
    "print(\"FPR: \",FPRRFOS)\n",
    "print(\"FNR: \",FNRRFOS)\n",
    "print(\"Accuracy: \",ACCRFOS)\n",
    "print(\"Accuracy (Whole Table): \",accuracy_score(y_test6,y_test_pred6))"
   ]
  },
  {
   "cell_type": "markdown",
   "id": "0e73c5e7",
   "metadata": {},
   "source": [
    "### 6. Neural Networks (SMOTE Oversampled)"
   ]
  },
  {
   "cell_type": "code",
   "execution_count": 135,
   "id": "3419bdbd",
   "metadata": {},
   "outputs": [],
   "source": [
    "#Neural Network with SMOTE Oversampling\n",
    "#Convert both y to categorical encoding for Neural Network\n",
    "y_train4=pd.Series(y_train4)\n",
    "y_train4= to_categorical(y_train4)\n",
    "y_test4=pd.Series(y_test4)\n",
    "y_test4=to_categorical(y_test4)"
   ]
  },
  {
   "cell_type": "code",
   "execution_count": 136,
   "id": "f7184e40",
   "metadata": {},
   "outputs": [],
   "source": [
    "#Reapply Neural Network models and hyperparameter tuning\n",
    "def model_builder_oversample(hp):\n",
    "  model2 = tf.keras.Sequential()\n",
    "  model2.add(tf.keras.layers.Flatten(input_shape=(25,)))\n",
    "\n",
    "  hp_activation = hp.Choice('activation', values=['relu', 'tanh'])\n",
    "  hp_layer_1 = hp.Int('layer_1', min_value=1, max_value=1000, step=100)\n",
    "  hp_layer_2 = hp.Int('layer_2', min_value=1, max_value=1000, step=100)\n",
    "  hp_learning_rate = hp.Choice('learning_rate', values=[1e-2, 1e-3, 1e-4])\n",
    "\n",
    "  model2.add(tf.keras.layers.Dense(units=hp_layer_1, activation=hp_activation))\n",
    "  model2.add(tf.keras.layers.Dense(units=hp_layer_2, activation=hp_activation))\n",
    "  model2.add(tf.keras.layers.Dense(4, activation='softmax'))\n",
    "\n",
    "  model2.compile(optimizer=tf.keras.optimizers.Adam(learning_rate=hp_learning_rate),\n",
    "                loss=\"categorical_crossentropy\",\n",
    "                metrics=['accuracy'])\n",
    "  \n",
    "  return model2\n",
    "\n",
    "\n",
    "tuner_oversample = kt.Hyperband(model_builder_oversample,\n",
    "                     objective='val_accuracy',\n",
    "                     max_epochs=100,\n",
    "                     factor=3,\n",
    "                     directory='dir',\n",
    "                     project_name='x',\n",
    "                     overwrite=True)\n",
    "\n",
    "stop_early_oversample = tf.keras.callbacks.EarlyStopping(monitor='val_loss', patience=3)"
   ]
  },
  {
   "cell_type": "code",
   "execution_count": 137,
   "id": "2728b1b7",
   "metadata": {
    "scrolled": false
   },
   "outputs": [
    {
     "name": "stdout",
     "output_type": "stream",
     "text": [
      "Trial 254 Complete [00h 00m 29s]\n",
      "val_accuracy: 0.4363957643508911\n",
      "\n",
      "Best val_accuracy So Far: 0.877385139465332\n",
      "Total elapsed time: 00h 23m 50s\n",
      "INFO:tensorflow:Oracle triggered exit\n"
     ]
    }
   ],
   "source": [
    "tuner_oversample.search(X_train4, y_train4,epochs=10, validation_split=0.2, callbacks=[stop_early])"
   ]
  },
  {
   "cell_type": "code",
   "execution_count": 138,
   "id": "8374d655",
   "metadata": {},
   "outputs": [],
   "source": [
    "best_hps_oversample = tuner_oversample.get_best_hyperparameters(num_trials=1)[0]"
   ]
  },
  {
   "cell_type": "code",
   "execution_count": 139,
   "id": "c2695958",
   "metadata": {},
   "outputs": [
    {
     "name": "stdout",
     "output_type": "stream",
     "text": [
      "Epoch 1/50\n",
      "354/354 [==============================] - 1s 1ms/step - loss: 1.2787 - accuracy: 0.3440 - val_loss: 2.4403 - val_accuracy: 0.0000e+00\n",
      "Epoch 2/50\n",
      "354/354 [==============================] - 0s 1ms/step - loss: 1.2450 - accuracy: 0.3712 - val_loss: 2.4671 - val_accuracy: 0.0000e+00\n",
      "Epoch 3/50\n",
      "354/354 [==============================] - 0s 1ms/step - loss: 1.2327 - accuracy: 0.3912 - val_loss: 2.5153 - val_accuracy: 0.0000e+00\n",
      "Epoch 4/50\n",
      "354/354 [==============================] - 0s 1ms/step - loss: 1.2245 - accuracy: 0.3998 - val_loss: 2.4657 - val_accuracy: 0.0000e+00\n"
     ]
    },
    {
     "data": {
      "text/plain": [
       "{'loss': [1.2786953449249268,\n",
       "  1.2450488805770874,\n",
       "  1.2327418327331543,\n",
       "  1.2244988679885864],\n",
       " 'accuracy': [0.3439653515815735,\n",
       "  0.37117865681648254,\n",
       "  0.39123520255088806,\n",
       "  0.39980560541152954],\n",
       " 'val_loss': [2.440274477005005,\n",
       "  2.4670655727386475,\n",
       "  2.5152649879455566,\n",
       "  2.465651750564575],\n",
       " 'val_accuracy': [0.0, 0.0, 0.0, 0.0]}"
      ]
     },
     "execution_count": 139,
     "metadata": {},
     "output_type": "execute_result"
    }
   ],
   "source": [
    "model_oversample = tuner_oversample.hypermodel.build(best_hps)\n",
    "history = model_oversample.fit(X_train4, y_train4, epochs=50, validation_split=0.2,\n",
    "                    callbacks=[stop_early])\n",
    "history.history"
   ]
  },
  {
   "cell_type": "code",
   "execution_count": 140,
   "id": "d9e83143",
   "metadata": {},
   "outputs": [
    {
     "name": "stdout",
     "output_type": "stream",
     "text": [
      "57/57 [==============================] - 0s 641us/step\n",
      "57/57 [==============================] - 0s 623us/step\n",
      "TPR:  [0.23868313 0.51450677 0.367713   0.        ]\n",
      "TNR:  [0.8068615  0.58461538 0.65297297 1.        ]\n",
      "FPR:  [0.1931385  0.41538462 0.34702703 0.        ]\n",
      "FNR:  [0.76131687 0.48549323 0.632287   1.        ]\n",
      "Accuracy:  [0.73087507 0.56466703 0.51293341 0.90919097]\n",
      "Accuracy (Whole Table):  0.3588332416070446\n"
     ]
    },
    {
     "data": {
      "image/png": "[encoded data removed]",
      "text/plain": [
       "<Figure size 1200x400 with 2 Axes>"
      ]
     },
     "metadata": {},
     "output_type": "display_data"
    }
   ],
   "source": [
    "y_pred_class4=np.argmax(model_oversample.predict(X_test4), axis=-1)\n",
    "y_pred4 = model_oversample.predict(X_test4)\n",
    "y_test_class4 = np.argmax(y_test4, axis=1)\n",
    "CM4=confusion_matrix(y_test_class4, y_pred_class4)\n",
    "f, axes = plt.subplots(1,1,figsize=(12, 4))\n",
    "sb.heatmap(CM4, \n",
    "           annot = True, fmt=\".0f\", annot_kws={\"size\": 18},ax = axes)\n",
    "\n",
    "FPNNOS = CM4.sum(axis=0) - np.diag(CM4) \n",
    "FNNNOS = CM4.sum(axis=1) - np.diag(CM4)\n",
    "TPNNOS = np.diag(CM4)\n",
    "TNNNOS = CM4.sum() - (FPNNOS + FNNNOS + TPNNOS)\n",
    "FPNNOS = FPNNOS.astype(float)\n",
    "FNNNOS = FNNNOS.astype(float)\n",
    "TPNNOS = TPNNOS.astype(float)\n",
    "TNNNOS = TNNNOS.astype(float)\n",
    "            \n",
    "            \n",
    "# Sensitivity, hit rate, recall, or true positive rate\n",
    "TPRNNOS = TPNNOS/(TPNNOS+FNNNOS)\n",
    "# Specificity or true negative rate\n",
    "TNRNNOS = TNNNOS/(TNNNOS+FPNNOS) \n",
    "# Fall out or false positive rate\n",
    "FPRNNOS = FPNNOS/(FPNNOS+TNNNOS)\n",
    "# False negative rate\n",
    "FNRNNOS = FNNNOS/(TPNNOS+FNNNOS)\n",
    "\n",
    "# accuracy\n",
    "ACCNNOS = (TPNNOS+TNNNOS)/(TPNNOS+FPNNOS+FNNNOS+TNNNOS)\n",
    "\n",
    "#Overall Accuracy\n",
    "TOTALACCNNOS=accuracy_score(y_test_class4,y_pred_class4)\n",
    "\n",
    "print(\"TPR: \",TPRNNOS)\n",
    "print(\"TNR: \",TNRNNOS)\n",
    "print(\"FPR: \",FPRNNOS)\n",
    "print(\"FNR: \",FNRNNOS)\n",
    "print(\"Accuracy: \",ACCNNOS)\n",
    "\n",
    "print(\"Accuracy (Whole Table): \",accuracy_score(y_test_class4,y_pred_class4))"
   ]
  },
  {
   "cell_type": "code",
   "execution_count": 160,
   "id": "e5b7a9a8",
   "metadata": {
    "scrolled": true
   },
   "outputs": [
    {
     "name": "stderr",
     "output_type": "stream",
     "text": [
      "C:\\Users\\Qi Yang\\AppData\\Local\\Temp\\ipykernel_8360\\354379366.py:10: FutureWarning: Passing 'suffixes' which cause duplicate columns {'0_x'} in the result is deprecated and will raise a MergeError in a future version.\n",
      "  TPRCompiled = pd.merge(TPRCompiled, TPRRFOSdf, left_index=True, right_index=True)\n",
      "C:\\Users\\Qi Yang\\AppData\\Local\\Temp\\ipykernel_8360\\354379366.py:12: FutureWarning: Passing 'suffixes' which cause duplicate columns {'0_x'} in the result is deprecated and will raise a MergeError in a future version.\n",
      "  TPRCompiled = pd.merge(TPRCompiled, TPRNNOSdf, left_index=True, right_index=True)\n",
      "C:\\Users\\Qi Yang\\AppData\\Local\\Temp\\ipykernel_8360\\354379366.py:24: FutureWarning: Passing 'suffixes' which cause duplicate columns {'0_x'} in the result is deprecated and will raise a MergeError in a future version.\n",
      "  FNRCompiled = pd.merge(FNRCompiled, FNRRFOSdf, left_index=True, right_index=True)\n",
      "C:\\Users\\Qi Yang\\AppData\\Local\\Temp\\ipykernel_8360\\354379366.py:26: FutureWarning: Passing 'suffixes' which cause duplicate columns {'0_x'} in the result is deprecated and will raise a MergeError in a future version.\n",
      "  FNRCompiled = pd.merge(FNRCompiled, FNRNNOSdf, left_index=True, right_index=True)\n",
      "C:\\Users\\Qi Yang\\AppData\\Local\\Temp\\ipykernel_8360\\354379366.py:39: FutureWarning: Passing 'suffixes' which cause duplicate columns {'0_x'} in the result is deprecated and will raise a MergeError in a future version.\n",
      "  TNRCompiled = pd.merge(TNRCompiled, TNRRFOSdf, left_index=True, right_index=True)\n",
      "C:\\Users\\Qi Yang\\AppData\\Local\\Temp\\ipykernel_8360\\354379366.py:41: FutureWarning: Passing 'suffixes' which cause duplicate columns {'0_x'} in the result is deprecated and will raise a MergeError in a future version.\n",
      "  TNRCompiled = pd.merge(TNRCompiled, TNRNNOSdf, left_index=True, right_index=True)\n",
      "C:\\Users\\Qi Yang\\AppData\\Local\\Temp\\ipykernel_8360\\354379366.py:53: FutureWarning: Passing 'suffixes' which cause duplicate columns {'0_x'} in the result is deprecated and will raise a MergeError in a future version.\n",
      "  FPRCompiled = pd.merge(FPRCompiled, FPRRFOSdf, left_index=True, right_index=True)\n",
      "C:\\Users\\Qi Yang\\AppData\\Local\\Temp\\ipykernel_8360\\354379366.py:55: FutureWarning: Passing 'suffixes' which cause duplicate columns {'0_x'} in the result is deprecated and will raise a MergeError in a future version.\n",
      "  FPRCompiled = pd.merge(FPRCompiled, FPRNNOSdf, left_index=True, right_index=True)\n",
      "C:\\Users\\Qi Yang\\AppData\\Local\\Temp\\ipykernel_8360\\354379366.py:67: FutureWarning: Passing 'suffixes' which cause duplicate columns {'0_x'} in the result is deprecated and will raise a MergeError in a future version.\n",
      "  ACCCompiled = pd.merge(ACCCompiled, ACCRFOSdf, left_index=True, right_index=True)\n",
      "C:\\Users\\Qi Yang\\AppData\\Local\\Temp\\ipykernel_8360\\354379366.py:69: FutureWarning: Passing 'suffixes' which cause duplicate columns {'0_x'} in the result is deprecated and will raise a MergeError in a future version.\n",
      "  ACCCompiled = pd.merge(ACCCompiled, ACCNNOSdf, left_index=True, right_index=True)\n"
     ]
    }
   ],
   "source": [
    "#Convert all TPR,FNR,TNR,FPR,Accuracy,Overall Accuracy to DataFrame BEFORE oversampling\n",
    "TPRDTdf=pd.DataFrame(TPRDT)\n",
    "TPRRFdf=pd.DataFrame(TPRRF)\n",
    "TPRNNdf=pd.DataFrame(TPRNN)\n",
    "TPRDTOSdf=pd.DataFrame(TPRDTOS)\n",
    "TPRRFOSdf=pd.DataFrame(TPRRFOS)\n",
    "TPRNNOSdf=pd.DataFrame(TPRNNOS)\n",
    "TPRCompiled = pd.merge(TPRDTdf, TPRDTOSdf, left_index=True, right_index=True)\n",
    "TPRCompiled = pd.merge(TPRCompiled, TPRRFdf, left_index=True, right_index=True)\n",
    "TPRCompiled = pd.merge(TPRCompiled, TPRRFOSdf, left_index=True, right_index=True)\n",
    "TPRCompiled = pd.merge(TPRCompiled, TPRNNdf, left_index=True, right_index=True)\n",
    "TPRCompiled = pd.merge(TPRCompiled, TPRNNOSdf, left_index=True, right_index=True)\n",
    "\n",
    "\n",
    "FNRDTdf=pd.DataFrame(FNRDT)\n",
    "FNRRFdf=pd.DataFrame(FNRRF)\n",
    "FNRNNdf=pd.DataFrame(FNRNN)\n",
    "FNRDTOSdf=pd.DataFrame(FNRDTOS)\n",
    "FNRRFOSdf=pd.DataFrame(FNRRFOS)\n",
    "FNRNNOSdf=pd.DataFrame(FNRNNOS)\n",
    "\n",
    "FNRCompiled = pd.merge(FNRDTdf, FNRDTOSdf, left_index=True, right_index=True)\n",
    "FNRCompiled = pd.merge(FNRCompiled, FNRRFdf, left_index=True, right_index=True)\n",
    "FNRCompiled = pd.merge(FNRCompiled, FNRRFOSdf, left_index=True, right_index=True)\n",
    "FNRCompiled = pd.merge(FNRCompiled, FNRNNdf, left_index=True, right_index=True)\n",
    "FNRCompiled = pd.merge(FNRCompiled, FNRNNOSdf, left_index=True, right_index=True)\n",
    "\n",
    "\n",
    "\n",
    "TNRDTdf=pd.DataFrame(TNRDT)\n",
    "TNRRFdf=pd.DataFrame(TNRRF)\n",
    "TNRNNdf=pd.DataFrame(TNRNN)\n",
    "TNRDTOSdf=pd.DataFrame(TNRDTOS)\n",
    "TNRRFOSdf=pd.DataFrame(TNRRFOS)\n",
    "TNRNNOSdf=pd.DataFrame(TNRNNOS)\n",
    "\n",
    "TNRCompiled = pd.merge(TNRDTdf, TNRDTOSdf, left_index=True, right_index=True)\n",
    "TNRCompiled = pd.merge(TNRCompiled, TNRRFdf, left_index=True, right_index=True)\n",
    "TNRCompiled = pd.merge(TNRCompiled, TNRRFOSdf, left_index=True, right_index=True)\n",
    "TNRCompiled = pd.merge(TNRCompiled, TNRNNdf, left_index=True, right_index=True)\n",
    "TNRCompiled = pd.merge(TNRCompiled, TNRNNOSdf, left_index=True, right_index=True)\n",
    "\n",
    "\n",
    "\n",
    "FPRDTdf=pd.DataFrame(FPRDT)\n",
    "FPRRFdf=pd.DataFrame(FPRRF)\n",
    "FPRNNdf=pd.DataFrame(FPRNN)\n",
    "FPRDTOSdf=pd.DataFrame(FPRDTOS)\n",
    "FPRRFOSdf=pd.DataFrame(FPRRFOS)\n",
    "FPRNNOSdf=pd.DataFrame(FPRNNOS)\n",
    "FPRCompiled = pd.merge(FPRDTdf, FPRDTOSdf, left_index=True, right_index=True)\n",
    "FPRCompiled = pd.merge(FPRCompiled, FPRRFdf, left_index=True, right_index=True)\n",
    "FPRCompiled = pd.merge(FPRCompiled, FPRRFOSdf, left_index=True, right_index=True)\n",
    "FPRCompiled = pd.merge(FPRCompiled, FPRNNdf, left_index=True, right_index=True)\n",
    "FPRCompiled = pd.merge(FPRCompiled, FPRNNOSdf, left_index=True, right_index=True)\n",
    "\n",
    "\n",
    "\n",
    "ACCDTdf=pd.DataFrame(ACCDT)\n",
    "ACCRFdf=pd.DataFrame(ACCRF)\n",
    "ACCNNdf=pd.DataFrame(ACCNN)\n",
    "ACCDTOSdf=pd.DataFrame(ACCDTOS)\n",
    "ACCRFOSdf=pd.DataFrame(ACCRFOS)\n",
    "ACCNNOSdf=pd.DataFrame(ACCNNOS)\n",
    "ACCCompiled = pd.merge(ACCDTdf, ACCDTOSdf, left_index=True, right_index=True)\n",
    "ACCCompiled = pd.merge(ACCCompiled, ACCRFdf, left_index=True, right_index=True)\n",
    "ACCCompiled = pd.merge(ACCCompiled, ACCRFOSdf, left_index=True, right_index=True)\n",
    "ACCCompiled = pd.merge(ACCCompiled, ACCNNdf, left_index=True, right_index=True)\n",
    "ACCCompiled = pd.merge(ACCCompiled, ACCNNOSdf, left_index=True, right_index=True)\n",
    "\n",
    "#Create data for overall accuracy\n",
    "data = {'Decision Tree':TOTALACCDT,'Decision Tree (OS)':TOTALACCDTOS, 'Random Forest':TOTALACCRF,'Random Forest (OS)':TOTALACCRFOS, 'Neural Network':TOTALACCNN,'Neural Network (OS)':TOTALACCNNOS\n",
    "       }\n",
    "ModelUsed = list(data.keys())\n",
    "OAccuracy = list(data.values())\n"
   ]
  },
  {
   "cell_type": "code",
   "execution_count": 161,
   "id": "0697fdbc",
   "metadata": {},
   "outputs": [],
   "source": [
    "TPRCompiled.columns = ['Decision Tree','Decision Tree (OS)',  'Random Forest', 'Random Forest (OS)','Neural Network','Neural Network (OS)']\n",
    "FNRCompiled.columns = ['Decision Tree','Decision Tree (OS)',  'Random Forest', 'Random Forest (OS)','Neural Network','Neural Network (OS)']\n",
    "TNRCompiled.columns = ['Decision Tree','Decision Tree (OS)',  'Random Forest', 'Random Forest (OS)','Neural Network','Neural Network (OS)']\n",
    "FPRCompiled.columns = ['Decision Tree','Decision Tree (OS)',  'Random Forest', 'Random Forest (OS)','Neural Network','Neural Network (OS)']\n",
    "ACCCompiled.columns = ['Decision Tree','Decision Tree (OS)',  'Random Forest', 'Random Forest (OS)','Neural Network','Neural Network (OS)']"
   ]
  },
  {
   "cell_type": "code",
   "execution_count": 162,
   "id": "6e268be9",
   "metadata": {},
   "outputs": [
    {
     "data": {
      "text/plain": [
       "{'Decision Tree': 0.48156301596037426,\n",
       " 'Decision Tree (OS)': 0.30875068794716565,\n",
       " 'Random Forest': 0.5063291139240507,\n",
       " 'Random Forest (OS)': 0.40946615299944966,\n",
       " 'Neural Network': 0.49036873968079253,\n",
       " 'Neural Network (OS)': 0.3588332416070446}"
      ]
     },
     "execution_count": 162,
     "metadata": {},
     "output_type": "execute_result"
    }
   ],
   "source": [
    "#Showcase overall Accuracy values for later use.\n",
    "data"
   ]
  },
  {
   "cell_type": "markdown",
   "id": "2641ed69",
   "metadata": {},
   "source": [
    "### Extract results\n",
    "We extract the results to a CSV file to be compared with Numerical Prediction results later."
   ]
  },
  {
   "cell_type": "code",
   "execution_count": 163,
   "id": "afd3caab",
   "metadata": {},
   "outputs": [],
   "source": [
    "TPRCompiled.to_csv(\"TPR_Cat.csv\")\n",
    "FNRCompiled.to_csv(\"FNR_Cat.csv\")\n",
    "TNRCompiled.to_csv(\"TNR_Cat.csv\")\n",
    "FPRCompiled.to_csv(\"FPR_Cat.csv\")\n",
    "ACCCompiled.to_csv(\"ACC_Cat.csv\")"
   ]
  }
 ],
 "metadata": {
  "kernelspec": {
   "display_name": "Python 3 (ipykernel)",
   "language": "python",
   "name": "python3"
  },
  "language_info": {
   "codemirror_mode": {
    "name": "ipython",
    "version": 3
   },
   "file_extension": ".py",
   "mimetype": "text/x-python",
   "name": "python",
   "nbconvert_exporter": "python",
   "pygments_lexer": "ipython3",
   "version": "3.9.13"
  }
 },
 "nbformat": 4,
 "nbformat_minor": 5
}
